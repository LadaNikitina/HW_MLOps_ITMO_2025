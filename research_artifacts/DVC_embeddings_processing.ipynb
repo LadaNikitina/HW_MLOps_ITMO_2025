{
 "cells": [
  {
   "cell_type": "code",
   "execution_count": 1,
   "id": "e39b2505-883b-4c5a-a5a9-8f5e477794b5",
   "metadata": {},
   "outputs": [],
   "source": [
    "from pathlib import Path\n",
    "\n",
    "import numpy as np\n",
    "import pandas as pd\n",
    "import torch\n",
    "from torch.utils.data import DataLoader, Dataset\n",
    "from tqdm import tqdm\n",
    "from transformers import AutoModelForMaskedLM, AutoTokenizer\n",
    "\n",
    "device = torch.device(\"cuda\" if torch.cuda.is_available() else \"cpu\")\n",
    "\n",
    "\n",
    "def get_nt_embeddings(dataloader, tokenizer, model, pooling=\"mean\"):\n",
    "    embeddings = []\n",
    "    labels = []\n",
    "\n",
    "    model.to(device)\n",
    "    model.eval()\n",
    "\n",
    "    for batch in tqdm(dataloader, desc=\"Generating embeddings\"):\n",
    "        sequences, lbls = batch\n",
    "\n",
    "        tokens = tokenizer(\n",
    "            list(sequences), padding=True, truncation=True, max_length=512, return_tensors=\"pt\"\n",
    "        )\n",
    "        input_ids = tokens[\"input_ids\"].to(device)\n",
    "        attention_mask = tokens[\"attention_mask\"].to(device)\n",
    "\n",
    "        with torch.no_grad():\n",
    "            with torch.amp.autocast(\"cuda\"):\n",
    "                outputs = model(\n",
    "                    input_ids=input_ids, attention_mask=attention_mask, output_hidden_states=True\n",
    "                )\n",
    "\n",
    "            last_hidden = outputs.hidden_states[-1]\n",
    "\n",
    "            if pooling == \"mean\":\n",
    "                attention_mask_exp = attention_mask.unsqueeze(-1)\n",
    "                sum_embeddings = torch.sum(last_hidden * attention_mask_exp, dim=1)\n",
    "                sum_mask = attention_mask_exp.sum(dim=1).clamp(min=1e-9)\n",
    "                pooled = sum_embeddings / sum_mask\n",
    "            elif pooling == \"max\":\n",
    "                pooled = last_hidden.masked_fill(attention_mask.unsqueeze(-1) == 0, -1e9)\n",
    "                pooled = torch.max(pooled, dim=1).values\n",
    "            else:\n",
    "                raise ValueError(\"pooling must be 'mean' or 'max'\")\n",
    "\n",
    "        embeddings.append(pooled.cpu().numpy())\n",
    "        labels.append(lbls.numpy())\n",
    "\n",
    "    return np.vstack(embeddings), np.concatenate(labels)"
   ]
  },
  {
   "cell_type": "code",
   "execution_count": 6,
   "id": "eb660471-9b17-4676-9234-e3d8cd33880d",
   "metadata": {},
   "outputs": [
    {
     "name": "stdout",
     "output_type": "stream",
     "text": [
      "Processing task: promoter_all\n"
     ]
    },
    {
     "name": "stderr",
     "output_type": "stream",
     "text": [
      "Generating embeddings: 100%|███████████████████████████████████████████████████████████████████████████████████████████████| 188/188 [00:28<00:00,  6.52it/s]\n"
     ]
    },
    {
     "name": "stdout",
     "output_type": "stream",
     "text": [
      "Число объектов в train выборке: 24000, уникальные классы: {0, 1}\n",
      "Сделано: /cephfs/home/ledneva/Work/hw_mlops_itmo_2025/data/embeddings/promoter_all/train.csv\n"
     ]
    },
    {
     "name": "stderr",
     "output_type": "stream",
     "text": [
      "Generating embeddings: 100%|█████████████████████████████████████████████████████████████████████████████████████████████████| 47/47 [00:07<00:00,  6.44it/s]\n"
     ]
    },
    {
     "name": "stdout",
     "output_type": "stream",
     "text": [
      "Число объектов в val выборке: 6000, уникальные классы: {0, 1}\n",
      "Сделано: /cephfs/home/ledneva/Work/hw_mlops_itmo_2025/data/embeddings/promoter_all/val.csv\n"
     ]
    },
    {
     "name": "stderr",
     "output_type": "stream",
     "text": [
      "Generating embeddings: 100%|█████████████████████████████████████████████████████████████████████████████████████████████████| 13/13 [00:02<00:00,  6.45it/s]\n"
     ]
    },
    {
     "name": "stdout",
     "output_type": "stream",
     "text": [
      "Число объектов в test выборке: 1584, уникальные классы: {0, 1}\n",
      "Сделано: /cephfs/home/ledneva/Work/hw_mlops_itmo_2025/data/embeddings/promoter_all/test.csv\n",
      "Processing task: enhancers\n"
     ]
    },
    {
     "name": "stderr",
     "output_type": "stream",
     "text": [
      "Generating embeddings: 100%|███████████████████████████████████████████████████████████████████████████████████████████████| 188/188 [00:44<00:00,  4.26it/s]\n"
     ]
    },
    {
     "name": "stdout",
     "output_type": "stream",
     "text": [
      "Число объектов в train выборке: 24000, уникальные классы: {0, 1}\n",
      "Сделано: /cephfs/home/ledneva/Work/hw_mlops_itmo_2025/data/embeddings/enhancers/train.csv\n"
     ]
    },
    {
     "name": "stderr",
     "output_type": "stream",
     "text": [
      "Generating embeddings: 100%|█████████████████████████████████████████████████████████████████████████████████████████████████| 47/47 [00:11<00:00,  4.24it/s]\n"
     ]
    },
    {
     "name": "stdout",
     "output_type": "stream",
     "text": [
      "Число объектов в val выборке: 6000, уникальные классы: {0, 1}\n",
      "Сделано: /cephfs/home/ledneva/Work/hw_mlops_itmo_2025/data/embeddings/enhancers/val.csv\n"
     ]
    },
    {
     "name": "stderr",
     "output_type": "stream",
     "text": [
      "Generating embeddings: 100%|█████████████████████████████████████████████████████████████████████████████████████████████████| 24/24 [00:05<00:00,  4.28it/s]\n"
     ]
    },
    {
     "name": "stdout",
     "output_type": "stream",
     "text": [
      "Число объектов в test выборке: 3000, уникальные классы: {0, 1}\n",
      "Сделано: /cephfs/home/ledneva/Work/hw_mlops_itmo_2025/data/embeddings/enhancers/test.csv\n",
      "Processing task: splice_sites_all\n"
     ]
    },
    {
     "name": "stderr",
     "output_type": "stream",
     "text": [
      "Generating embeddings: 100%|███████████████████████████████████████████████████████████████████████████████████████████████| 188/188 [01:02<00:00,  3.02it/s]\n"
     ]
    },
    {
     "name": "stdout",
     "output_type": "stream",
     "text": [
      "Число объектов в train выборке: 24000, уникальные классы: {0, 1, 2}\n",
      "Сделано: /cephfs/home/ledneva/Work/hw_mlops_itmo_2025/data/embeddings/splice_sites_all/train.csv\n"
     ]
    },
    {
     "name": "stderr",
     "output_type": "stream",
     "text": [
      "Generating embeddings: 100%|█████████████████████████████████████████████████████████████████████████████████████████████████| 47/47 [00:15<00:00,  2.97it/s]\n"
     ]
    },
    {
     "name": "stdout",
     "output_type": "stream",
     "text": [
      "Число объектов в val выборке: 6000, уникальные классы: {0, 1, 2}\n",
      "Сделано: /cephfs/home/ledneva/Work/hw_mlops_itmo_2025/data/embeddings/splice_sites_all/val.csv\n"
     ]
    },
    {
     "name": "stderr",
     "output_type": "stream",
     "text": [
      "Generating embeddings: 100%|█████████████████████████████████████████████████████████████████████████████████████████████████| 24/24 [00:07<00:00,  3.05it/s]\n"
     ]
    },
    {
     "name": "stdout",
     "output_type": "stream",
     "text": [
      "Число объектов в test выборке: 3000, уникальные классы: {0, 1, 2}\n",
      "Сделано: /cephfs/home/ledneva/Work/hw_mlops_itmo_2025/data/embeddings/splice_sites_all/test.csv\n",
      "Processing task: H4K20me1\n"
     ]
    },
    {
     "name": "stderr",
     "output_type": "stream",
     "text": [
      "Generating embeddings: 100%|███████████████████████████████████████████████████████████████████████████████████████████████| 188/188 [01:49<00:00,  1.71it/s]\n"
     ]
    },
    {
     "name": "stdout",
     "output_type": "stream",
     "text": [
      "Число объектов в train выборке: 24000, уникальные классы: {0, 1}\n",
      "Сделано: /cephfs/home/ledneva/Work/hw_mlops_itmo_2025/data/embeddings/H4K20me1/train.csv\n"
     ]
    },
    {
     "name": "stderr",
     "output_type": "stream",
     "text": [
      "Generating embeddings: 100%|█████████████████████████████████████████████████████████████████████████████████████████████████| 47/47 [00:27<00:00,  1.70it/s]\n"
     ]
    },
    {
     "name": "stdout",
     "output_type": "stream",
     "text": [
      "Число объектов в val выборке: 6000, уникальные классы: {0, 1}\n",
      "Сделано: /cephfs/home/ledneva/Work/hw_mlops_itmo_2025/data/embeddings/H4K20me1/val.csv\n"
     ]
    },
    {
     "name": "stderr",
     "output_type": "stream",
     "text": [
      "Generating embeddings: 100%|█████████████████████████████████████████████████████████████████████████████████████████████████| 18/18 [00:10<00:00,  1.71it/s]\n"
     ]
    },
    {
     "name": "stdout",
     "output_type": "stream",
     "text": [
      "Число объектов в test выборке: 2270, уникальные классы: {0, 1}\n",
      "Сделано: /cephfs/home/ledneva/Work/hw_mlops_itmo_2025/data/embeddings/H4K20me1/test.csv\n",
      "Processing task: H3K9me3\n"
     ]
    },
    {
     "name": "stderr",
     "output_type": "stream",
     "text": [
      "Generating embeddings: 100%|███████████████████████████████████████████████████████████████████████████████████████████████| 172/172 [01:40<00:00,  1.71it/s]\n"
     ]
    },
    {
     "name": "stdout",
     "output_type": "stream",
     "text": [
      "Число объектов в train выборке: 21950, уникальные классы: {0, 1}\n",
      "Сделано: /cephfs/home/ledneva/Work/hw_mlops_itmo_2025/data/embeddings/H3K9me3/train.csv\n"
     ]
    },
    {
     "name": "stderr",
     "output_type": "stream",
     "text": [
      "Generating embeddings: 100%|█████████████████████████████████████████████████████████████████████████████████████████████████| 43/43 [00:25<00:00,  1.70it/s]\n"
     ]
    },
    {
     "name": "stdout",
     "output_type": "stream",
     "text": [
      "Число объектов в val выборке: 5488, уникальные классы: {0, 1}\n",
      "Сделано: /cephfs/home/ledneva/Work/hw_mlops_itmo_2025/data/embeddings/H3K9me3/val.csv\n"
     ]
    },
    {
     "name": "stderr",
     "output_type": "stream",
     "text": [
      "Generating embeddings: 100%|███████████████████████████████████████████████████████████████████████████████████████████████████| 7/7 [00:04<00:00,  1.75it/s]\n"
     ]
    },
    {
     "name": "stdout",
     "output_type": "stream",
     "text": [
      "Число объектов в test выборке: 850, уникальные классы: {0, 1}\n",
      "Сделано: /cephfs/home/ledneva/Work/hw_mlops_itmo_2025/data/embeddings/H3K9me3/test.csv\n"
     ]
    }
   ],
   "source": [
    "MODEL_NAME = \"InstaDeepAI/nucleotide-transformer-v2-50m-multi-species\"\n",
    "PROCESSED_DIR = Path.cwd().resolve().parent / \"data\" / \"processed\"\n",
    "EMB_DIR = Path.cwd().resolve().parent / \"data\" / \"embeddings\"\n",
    "BATCH_SIZE = 128\n",
    "\n",
    "\n",
    "class CsvDataset(Dataset):\n",
    "    def __init__(self, csv_path):\n",
    "        df = pd.read_csv(csv_path)\n",
    "        self.sequences = df[\"sequence\"].tolist()\n",
    "        self.labels = df[\"label\"].tolist()\n",
    "\n",
    "    def __len__(self):\n",
    "        return len(self.sequences)\n",
    "\n",
    "    def __getitem__(self, idx):\n",
    "        return self.sequences[idx], self.labels[idx]\n",
    "\n",
    "\n",
    "tokenizer = AutoTokenizer.from_pretrained(MODEL_NAME, trust_remote_code=True)\n",
    "model = AutoModelForMaskedLM.from_pretrained(MODEL_NAME, trust_remote_code=True)\n",
    "\n",
    "SELECTED_TASKS = [\"promoter_all\", \"enhancers\", \"splice_sites_all\", \"H4K20me1\", \"H3K9me3\"]\n",
    "\n",
    "for task_dir in SELECTED_TASKS:\n",
    "    print(f\"Processing task: {task_dir}\")\n",
    "    for split in [\"train\", \"val\", \"test\"]:\n",
    "        input_csv = PROCESSED_DIR / task_dir / f\"{split}.csv\"\n",
    "        if not input_csv.exists():\n",
    "            print(f\"Нет файла {input_csv}\")\n",
    "            continue\n",
    "\n",
    "        dataset = CsvDataset(input_csv)\n",
    "        loader = DataLoader(dataset, batch_size=BATCH_SIZE, shuffle=False, num_workers=4)\n",
    "\n",
    "        embeddings, labels = get_nt_embeddings(loader, tokenizer, model)\n",
    "\n",
    "        out_task_dir = EMB_DIR / task_dir\n",
    "        out_task_dir.mkdir(parents=True, exist_ok=True)\n",
    "\n",
    "        df_emb = pd.DataFrame(embeddings, columns=[f\"emb_{i}\" for i in range(embeddings.shape[1])])\n",
    "        df_emb[\"label\"] = labels\n",
    "\n",
    "        df_emb.to_csv(out_task_dir / f\"{split}.csv\", index=False)\n",
    "        print(\n",
    "            f\"Число объектов в {split} выборке: {len(df_emb)}, уникальные классы: {set(df_emb['label'])}\"\n",
    "        )\n",
    "        print(f\"Сделано: {out_task_dir / f'{split}.csv'}\")"
   ]
  },
  {
   "cell_type": "code",
   "execution_count": null,
   "id": "c8e43405-72ee-4317-a4c3-133ceeb9d83c",
   "metadata": {},
   "outputs": [],
   "source": []
  }
 ],
 "metadata": {
  "kernelspec": {
   "display_name": "Python 3 (ipykernel)",
   "language": "python",
   "name": "python3"
  },
  "language_info": {
   "codemirror_mode": {
    "name": "ipython",
    "version": 3
   },
   "file_extension": ".py",
   "mimetype": "text/x-python",
   "name": "python",
   "nbconvert_exporter": "python",
   "pygments_lexer": "ipython3",
   "version": "3.8.10"
  }
 },
 "nbformat": 4,
 "nbformat_minor": 5
}

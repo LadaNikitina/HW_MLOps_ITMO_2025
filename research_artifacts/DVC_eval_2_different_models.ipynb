{
 "cells": [
  {
   "cell_type": "code",
   "execution_count": 2,
   "metadata": {},
   "outputs": [],
   "source": [
    "from pathlib import Path\n",
    "\n",
    "import pandas as pd\n",
    "from catboost import CatBoostClassifier\n",
    "\n",
    "\n",
    "def load_data(data_path: Path):\n",
    "    df_train = pd.read_csv(data_path / \"train.csv\")\n",
    "    df_valid = pd.read_csv(data_path / \"val.csv\")\n",
    "    df_test = pd.read_csv(data_path / \"test.csv\")\n",
    "\n",
    "    X_train = df_train.drop(columns=[\"label\"])\n",
    "    y_train = df_train[\"label\"]\n",
    "    X_valid = df_valid.drop(columns=[\"label\"])\n",
    "    y_valid = df_valid[\"label\"]\n",
    "    X_test = df_test.drop(columns=[\"label\"])\n",
    "    y_test = df_test[\"label\"]\n",
    "\n",
    "    return X_train, y_train, X_valid, y_valid, X_test, y_test\n",
    "\n",
    "\n",
    "def load_model(model_path: Path):\n",
    "    try:\n",
    "        model = CatBoostClassifier()\n",
    "        model.load_model(model_path)\n",
    "        return model\n",
    "    except Exception:\n",
    "        pass\n",
    "\n",
    "    try:\n",
    "        model = xgb.XGBClassifier()\n",
    "        model.load_model(model_path)\n",
    "        return model\n",
    "    except Exception:\n",
    "        pass\n",
    "\n",
    "    try:\n",
    "        model = lgb.Booster(model_file=model_path)\n",
    "        return model\n",
    "    except Exception:\n",
    "        pass\n",
    "\n",
    "    return None"
   ]
  },
  {
   "cell_type": "code",
   "execution_count": 3,
   "metadata": {},
   "outputs": [],
   "source": [
    "import numpy as np\n",
    "from sklearn.metrics import accuracy_score, f1_score, matthews_corrcoef\n",
    "\n",
    "\n",
    "def evaluate_model(clf, X_test, y_test, metric):\n",
    "    y_pred = clf.predict(X_test)\n",
    "    if y_pred.ndim == 1:\n",
    "        y_pred = (y_pred > 0.5).astype(int)\n",
    "    else:\n",
    "        y_pred = np.argmax(y_pred, axis=1)\n",
    "\n",
    "    if metric == \"F1\":\n",
    "        return f1_score(y_test, y_pred, average=\"binary\")\n",
    "    elif metric == \"Accuracy\":\n",
    "        return accuracy_score(y_test, y_pred)\n",
    "    else:\n",
    "        return matthews_corrcoef(y_test, y_pred)"
   ]
  },
  {
   "cell_type": "code",
   "execution_count": 4,
   "metadata": {},
   "outputs": [],
   "source": [
    "embeddings_dir = Path(\"../data/embeddings\")\n",
    "\n",
    "DATASETS = {\n",
    "    \"enhancers\": embeddings_dir / \"enhancers\",\n",
    "    \"promoter_all\": embeddings_dir / \"promoter_all\",\n",
    "    \"splice_sites_all\": embeddings_dir / \"splice_sites_all\",\n",
    "    \"H3K9me3\": embeddings_dir / \"H3K9me3\",\n",
    "    \"H4K20me1\": embeddings_dir / \"H4K20me1\",\n",
    "}\n",
    "\n",
    "METRICS = {\n",
    "    \"enhancers\": \"MCC\",\n",
    "    \"promoter_all\": \"F1\",\n",
    "    \"splice_sites_all\": \"Accuracy\",\n",
    "    \"H3K9me3\": \"MCC\",\n",
    "    \"H4K20me1\": \"MCC\",\n",
    "}\n",
    "\n",
    "save_model_dir = Path(\"../two_diff_models\")"
   ]
  },
  {
   "cell_type": "code",
   "execution_count": 9,
   "metadata": {},
   "outputs": [],
   "source": [
    "import os\n",
    "\n",
    "\n",
    "def evaluate_models(model_version):\n",
    "    results = {}\n",
    "    for dataset_name in DATASETS:\n",
    "        results[dataset_name] = {}\n",
    "        dataset_path = DATASETS[dataset_name]\n",
    "        metric = METRICS[dataset_name]\n",
    "        _, _, _, _, X_test, y_test = load_data(dataset_path)\n",
    "        models_dir = save_model_dir / model_version\n",
    "        \n",
    "        model_path = models_dir / f\"{dataset_name}_{model_version}.pkl\"\n",
    "        model = load_model(model_path)\n",
    "        print(f\"Evaluating {model_version} on {dataset_name} with {metric} metric\")\n",
    "        score = evaluate_model(model, X_test, y_test, metric)\n",
    "        results[dataset_name][model_version] = score\n",
    "    return results"
   ]
  },
  {
   "cell_type": "code",
   "execution_count": 10,
   "metadata": {},
   "outputs": [
    {
     "name": "stdout",
     "output_type": "stream",
     "text": [
      "Evaluating catboost_v1 on enhancers with MCC metric\n",
      "Evaluating catboost_v1 on promoter_all with F1 metric\n",
      "Evaluating catboost_v1 on splice_sites_all with Accuracy metric\n",
      "Evaluating catboost_v1 on H3K9me3 with MCC metric\n",
      "Evaluating catboost_v1 on H4K20me1 with MCC metric\n",
      "Evaluating catboost_v2 on enhancers with MCC metric\n",
      "Evaluating catboost_v2 on promoter_all with F1 metric\n",
      "Evaluating catboost_v2 on splice_sites_all with Accuracy metric\n",
      "Evaluating catboost_v2 on H3K9me3 with MCC metric\n",
      "Evaluating catboost_v2 on H4K20me1 with MCC metric\n"
     ]
    }
   ],
   "source": [
    "catboost_v1_results = evaluate_models(\"catboost_v1\")\n",
    "catboost_v2_results = evaluate_models(\"catboost_v2\")"
   ]
  },
  {
   "cell_type": "code",
   "execution_count": 22,
   "metadata": {},
   "outputs": [
    {
     "data": {
      "text/plain": [
       "{'enhancers': {'catboost_v1': 0.48296352881712296},\n",
       " 'promoter_all': {'catboost_v1': 0.8578745198463509},\n",
       " 'splice_sites_all': {'catboost_v1': 0.343},\n",
       " 'H3K9me3': {'catboost_v1': 0.306188482563984},\n",
       " 'H4K20me1': {'catboost_v1': 0.5841163156296433}}"
      ]
     },
     "execution_count": 22,
     "metadata": {},
     "output_type": "execute_result"
    }
   ],
   "source": [
    "catboost_v1_results"
   ]
  },
  {
   "cell_type": "code",
   "execution_count": 26,
   "metadata": {},
   "outputs": [
    {
     "name": "stdout",
     "output_type": "stream",
     "text": [
      "Dataset               catboost_v1  catboost_v2\n",
      "--------------------------------------------\n",
      "enhancers             0.4830       0.4700\n",
      "promoter_all          0.8579       0.8542\n",
      "splice_sites_all      0.3430       0.3430\n",
      "H3K9me3               0.3062       0.3012\n",
      "H4K20me1              0.5841       0.5718\n"
     ]
    }
   ],
   "source": [
    "headers = [\"Dataset\", \"catboost_v1\", \"catboost_v2\"]\n",
    "print(f\"{headers[0]:<20} {headers[1]:>12} {headers[2]:>12}\")\n",
    "print(\"-\" * 44)\n",
    "\n",
    "for dataset in DATASETS:\n",
    "    print(f\"{dataset:<21} {catboost_v1_results[dataset]['catboost_v1']:.4f} {catboost_v2_results[dataset]['catboost_v2']:>12.4f}\")"
   ]
  }
 ],
 "metadata": {
  "kernelspec": {
   "display_name": "Python 3 (ipykernel)",
   "language": "python",
   "name": "python3"
  },
  "language_info": {
   "codemirror_mode": {
    "name": "ipython",
    "version": 3
   },
   "file_extension": ".py",
   "mimetype": "text/x-python",
   "name": "python",
   "nbconvert_exporter": "python",
   "pygments_lexer": "ipython3",
   "version": "3.8.10"
  }
 },
 "nbformat": 4,
 "nbformat_minor": 4
}
